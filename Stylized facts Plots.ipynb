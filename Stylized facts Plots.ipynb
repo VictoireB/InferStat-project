{
 "cells": [
  {
   "cell_type": "code",
   "execution_count": null,
   "metadata": {},
   "outputs": [],
   "source": [
    "import pandas as pd\n",
    "import numpy as np\n",
    "import seaborn as sns\n",
    "import scipy.stats as scs\n",
    "import os\n",
    "import datetime as dt\n",
    "import matplotlib.pyplot as plt\n",
    "from scipy.stats import norm, kurtosis\n",
    "from scipy.stats import skew\n",
    "import scipy.stats\n",
    "import pickle\n",
    "import statistics as stats\n",
    "import statsmodels as sm"
   ]
  },
  {
   "cell_type": "code",
   "execution_count": null,
   "metadata": {},
   "outputs": [],
   "source": [
    "data = pd.read_excel(\n",
    "     os.path.join(\"realisedvariancesourceredclosingprice.xlsx\"),\n",
    "     engine='openpyxl',\n",
    ")\n",
    "list_dates_formated = []\n",
    "list_dates = list(data['Unnamed: 0'])\n",
    "list_names = list(data['Symbol'])\n",
    "list_closing_prices= list(data['close_price'])\n",
    "A_all = []\n",
    "size_current = len(list_dates)\n",
    "for i in range(0,size_current):\n",
    "    date = list_dates[i].split(\" \")[0].split(\"-\")\n",
    "    year = int(date[0])\n",
    "    month = int(date[1])\n",
    "    day = int(date[2])    \n",
    "    list_dates_formated.append(dt.datetime(year,month,day))\n",
    "    A_all.append([dt.datetime(year,month,day),list_names[i],list_closing_prices[i]])\n",
    "df_all_returns = pd.DataFrame(A_all)\n",
    "df_all_returns.columns = [\"Date\",\"Names\",\"close_price\"]      \n",
    "\n",
    "def returns_real_data(index,start_date,end_date):\n",
    "    Prices = df_all_returns.iloc[list(df_all_returns['Names'] == list_names_unique[index])]\n",
    "    True_False = []\n",
    "    Dates_between = list(Prices['Date'] )\n",
    "    for date in Dates_between:\n",
    "        if start_date <= date <= end_date:\n",
    "            True_False.append(True)\n",
    "        else: \n",
    "            True_False.append(False)\n",
    "    #take the range of date we are interested in \n",
    "    Prices_df = Prices.iloc[True_False]\n",
    "    Prices_df.dropna(axis=1)\n",
    "    Prices_list = list(Prices_df['close_price'])\n",
    "    Returns_list = []\n",
    "    for i in range(len(Prices_list)-1):\n",
    "        Returns_list += [np.log(Prices_list[i+1]/Prices_list[i])]\n",
    "    return(Returns_list)\n",
    "\n",
    "list_names_unique = sorted(list(set(list(df_all_returns['Names']))))\n",
    "\n"
   ]
  },
  {
   "cell_type": "code",
   "execution_count": null,
   "metadata": {},
   "outputs": [],
   "source": [
    "plt.rcParams['figure.figsize'] = [16, 9]\n",
    "plt.rcParams['figure.dpi'] = 300\n",
    "plt.rcParams['font.size'] = 20\n",
    "plt.rcParams['axes.labelsize'] = 20\n",
    "plt.rcParams['axes.titlesize'] = 24\n",
    "plt.rcParams['xtick.labelsize'] = 16\n",
    "plt.rcParams['ytick.labelsize'] = 16\n",
    "plt.rcParams['font.family'] = 'serif'"
   ]
  },
  {
   "cell_type": "code",
   "execution_count": null,
   "metadata": {},
   "outputs": [],
   "source": [
    "plt.style.use('seaborn')\n",
    "plt.rcParams['figure.dpi'] = 300"
   ]
  },
  {
   "cell_type": "markdown",
   "metadata": {},
   "source": [
    "In this file, the example is provided for the rough fSV model but the same has been done for the other models"
   ]
  },
  {
   "cell_type": "code",
   "execution_count": null,
   "metadata": {},
   "outputs": [],
   "source": [
    "with open(\"SF_r.txt\", \"rb\") as fp:   # Unpickling\n",
    "    log_returns = pickle.load(fp)"
   ]
  },
  {
   "cell_type": "code",
   "execution_count": null,
   "metadata": {},
   "outputs": [],
   "source": [
    "#log_returns = returns_real_data(0,dt.datetime(2000,1,1),dt.datetime(2000,6,1)) line for the real data"
   ]
  },
  {
   "cell_type": "code",
   "execution_count": null,
   "metadata": {},
   "outputs": [],
   "source": [
    "skew(log_returns)"
   ]
  },
  {
   "cell_type": "code",
   "execution_count": null,
   "metadata": {},
   "outputs": [],
   "source": [
    "kurtosis(log_returns)"
   ]
  },
  {
   "cell_type": "code",
   "execution_count": null,
   "metadata": {},
   "outputs": [],
   "source": [
    "r = stats.mean(log_returns)\n",
    "M =1\n",
    "sigma =np.sqrt(stats.variance(log_returns))"
   ]
  },
  {
   "cell_type": "code",
   "execution_count": null,
   "metadata": {},
   "outputs": [],
   "source": [
    "len(log_returns)"
   ]
  },
  {
   "cell_type": "code",
   "execution_count": null,
   "metadata": {},
   "outputs": [],
   "source": [
    "plt.figure(figsize=(2,4))"
   ]
  },
  {
   "cell_type": "code",
   "execution_count": null,
   "metadata": {},
   "outputs": [],
   "source": [
    "plt.hist(log_returns, bins=70, label='frequency', density = True)\n",
    "plt.grid(True)\n",
    "plt.xlabel('log-return')\n",
    "plt.ylabel('frequency')\n",
    "plt.title(\"A histogram of the daily returns on S&P 500 index with a fitted normal distribution\")\n",
    "x = np.linspace(plt.axis()[0], plt.axis()[1])\n",
    "plt.plot(x, scs.norm.pdf(x, loc=r / M, scale=sigma / np.sqrt(M)),'r', lw=2.0, label='pdf')\n",
    "plt.legend()"
   ]
  },
  {
   "cell_type": "code",
   "execution_count": null,
   "metadata": {},
   "outputs": [],
   "source": [
    "standardised_log_returns= []\n",
    "for i in range(len(log_returns)):\n",
    "    standardised_log_returns += [(log_returns[i]-r)/sigma]"
   ]
  },
  {
   "cell_type": "code",
   "execution_count": null,
   "metadata": {},
   "outputs": [],
   "source": [
    "sm.graphics.gofplots.qqplot(np.array(standardised_log_returns), line='s')\n",
    "plt.grid(True)\n",
    "plt.title(\"A normal QQ-plot of standardised daily returns for S&P 500 \")\n",
    "plt.xlabel('theoretical quantiles')\n",
    "plt.ylabel('sample quantiles')"
   ]
  },
  {
   "cell_type": "code",
   "execution_count": null,
   "metadata": {},
   "outputs": [],
   "source": [
    "abs_log_returns = []\n",
    "for i in range(len(log_returns)):\n",
    "    abs_log_returns += [abs(log_returns[i])]"
   ]
  },
  {
   "cell_type": "code",
   "execution_count": null,
   "metadata": {},
   "outputs": [],
   "source": [
    "plt.figure()\n",
    "fig, (ax1, ax2) = plt.subplots(1,2)\n",
    "fig.set_size_inches(15, 4)\n",
    "ax1.acorr(np.array(log_returns),maxlags=15)\n",
    "ax1.set(xlabel='Lags', ylabel='',title=\"Empirical autocorrelation plot of the daily returns of the S&P 500\")\n",
    "ax2.acorr(np.array(abs_log_returns),maxlags=15)\n",
    "ax2.set(xlabel='Lags', ylabel='',title=\"Empirical autocorrelation plot of the daily absolute returns of the S&P 500\")"
   ]
  }
 ],
 "metadata": {
  "kernelspec": {
   "display_name": "Python 3",
   "language": "python",
   "name": "python3"
  },
  "language_info": {
   "codemirror_mode": {
    "name": "ipython",
    "version": 3
   },
   "file_extension": ".py",
   "mimetype": "text/x-python",
   "name": "python",
   "nbconvert_exporter": "python",
   "pygments_lexer": "ipython3",
   "version": "3.8.5"
  }
 },
 "nbformat": 4,
 "nbformat_minor": 4
}
